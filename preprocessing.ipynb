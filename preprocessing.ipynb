{
 "cells": [
  {
   "cell_type": "code",
   "execution_count": null,
   "id": "77a5e0c5",
   "metadata": {},
   "outputs": [],
   "source": [
    "'''\n",
    "VMP 2022-02-08: \n",
    "key document for preprocessing main scientific fields. \n",
    "'''"
   ]
  },
  {
   "cell_type": "code",
   "execution_count": 1,
   "id": "47613efe",
   "metadata": {},
   "outputs": [
    {
     "name": "stdout",
     "output_type": "stream",
     "text": [
      "['NAME STATE JOBID', '1.train.0 RUNNING 65946', 'cluster_new.job RUNNING 65953', 'jupyter-notebook RUNNING 65952', '4.train.0 RUNNING 65958', '4.train.1 RUNNING 65959', '4.train.2 RUNNING 65960', '4.train.3 RUNNING 65961', '4.train.4 RUNNING 65962', '4.train.5 RUNNING 65963', '']\n"
     ]
    }
   ],
   "source": [
    "import sys  \n",
    "sys.path.insert(0, '/home/vicp')\n",
    "from MAGsparkmasters import get_mag_with_cluster_connection\n",
    "from MAGmasters import MicrosoftAcademicGraph\n",
    "import os\n",
    "from pyspark.sql import functions as F, Window\n",
    "import pandas as pd\n",
    "import matplotlib.pyplot as plt\n",
    "import datetime, time\n",
    "import numpy as np\n",
    "from pyspark.sql.functions import avg\n",
    "os.chdir('/home/vicp')\n",
    "mag, spark = get_mag_with_cluster_connection(65953, \n",
    "                               memory_per_executor=16000)"
   ]
  },
  {
   "cell_type": "code",
   "execution_count": 2,
   "id": "4a9a85a7",
   "metadata": {},
   "outputs": [
    {
     "data": {
      "text/html": [
       "\n",
       "            <div>\n",
       "                <p><b>SparkSession - in-memory</b></p>\n",
       "                \n",
       "        <div>\n",
       "            <p><b>SparkContext</b></p>\n",
       "\n",
       "            <p><a href=\"http://desktop12.hpc.itu.dk:4040\">Spark UI</a></p>\n",
       "\n",
       "            <dl>\n",
       "              <dt>Version</dt>\n",
       "                <dd><code>v3.0.3</code></dd>\n",
       "              <dt>Master</dt>\n",
       "                <dd><code>spark://172.16.16.101:7077</code></dd>\n",
       "              <dt>AppName</dt>\n",
       "                <dd><code>pyspark-shell</code></dd>\n",
       "            </dl>\n",
       "        </div>\n",
       "        \n",
       "            </div>\n",
       "        "
      ],
      "text/plain": [
       "<pyspark.sql.session.SparkSession at 0x7f4137e86e80>"
      ]
     },
     "execution_count": 2,
     "metadata": {},
     "output_type": "execute_result"
    }
   ],
   "source": [
    "spark"
   ]
  },
  {
   "cell_type": "markdown",
   "id": "0e05f988",
   "metadata": {},
   "source": [
    "# NormalizedName\n",
    "Create file called *FoS.txt*: <br/>\n",
    "File contains *COLUMNS*: \n",
    "* FieldOfStudyId <int>\n",
    "* NormalizedName <str>\n",
    "* Level <int>"
   ]
  },
  {
   "cell_type": "code",
   "execution_count": 3,
   "id": "7861d8a5",
   "metadata": {},
   "outputs": [],
   "source": [
    "def NormalizedName(): \n",
    "    \n",
    "    # NormalizedName and FieldOfStudyId mapping. \n",
    "    FoS = mag.getSubset(\"FieldsOfStudy\", ['FieldOfStudyId', 'NormalizedName', 'Level']) \\\n",
    "        .distinct() \n",
    "    print(f\"dtypes: {FoS.dtypes}\")\n",
    "    \n",
    "    # write file \n",
    "    mag.saveFile(FoS, \"masters\", \"FoS.txt\")"
   ]
  },
  {
   "cell_type": "code",
   "execution_count": 4,
   "id": "1c1537ae",
   "metadata": {},
   "outputs": [
    {
     "name": "stdout",
     "output_type": "stream",
     "text": [
      "dtypes: [('FieldOfStudyId', 'bigint'), ('NormalizedName', 'string'), ('Level', 'int')]\n"
     ]
    }
   ],
   "source": [
    "NormalizedName()"
   ]
  },
  {
   "cell_type": "markdown",
   "id": "9fed2ead",
   "metadata": {},
   "source": [
    "# Subset by FoS\n",
    "based on a list of fields-of-study, we create subsets."
   ]
  },
  {
   "cell_type": "code",
   "execution_count": 5,
   "id": "1cb786f6",
   "metadata": {},
   "outputs": [],
   "source": [
    "focus_list = ['sociology', 'political science', 'psychology', 'economics']"
   ]
  },
  {
   "cell_type": "code",
   "execution_count": 6,
   "id": "d3c40a89",
   "metadata": {},
   "outputs": [],
   "source": [
    "focus_fos = mag.getDataframe('FoS') \\\n",
    "    .filter(F.col('NormalizedName').isin(focus_list)) \\\n",
    "    .toPandas()"
   ]
  },
  {
   "cell_type": "code",
   "execution_count": 7,
   "id": "36f5c744",
   "metadata": {
    "scrolled": true
   },
   "outputs": [
    {
     "data": {
      "text/html": [
       "<div>\n",
       "<style scoped>\n",
       "    .dataframe tbody tr th:only-of-type {\n",
       "        vertical-align: middle;\n",
       "    }\n",
       "\n",
       "    .dataframe tbody tr th {\n",
       "        vertical-align: top;\n",
       "    }\n",
       "\n",
       "    .dataframe thead th {\n",
       "        text-align: right;\n",
       "    }\n",
       "</style>\n",
       "<table border=\"1\" class=\"dataframe\">\n",
       "  <thead>\n",
       "    <tr style=\"text-align: right;\">\n",
       "      <th></th>\n",
       "      <th>FieldOfStudyId</th>\n",
       "      <th>NormalizedName</th>\n",
       "      <th>Level</th>\n",
       "    </tr>\n",
       "  </thead>\n",
       "  <tbody>\n",
       "    <tr>\n",
       "      <th>0</th>\n",
       "      <td>162324750</td>\n",
       "      <td>economics</td>\n",
       "      <td>0</td>\n",
       "    </tr>\n",
       "    <tr>\n",
       "      <th>1</th>\n",
       "      <td>17744445</td>\n",
       "      <td>political science</td>\n",
       "      <td>0</td>\n",
       "    </tr>\n",
       "    <tr>\n",
       "      <th>2</th>\n",
       "      <td>144024400</td>\n",
       "      <td>sociology</td>\n",
       "      <td>0</td>\n",
       "    </tr>\n",
       "    <tr>\n",
       "      <th>3</th>\n",
       "      <td>15744967</td>\n",
       "      <td>psychology</td>\n",
       "      <td>0</td>\n",
       "    </tr>\n",
       "  </tbody>\n",
       "</table>\n",
       "</div>"
      ],
      "text/plain": [
       "   FieldOfStudyId     NormalizedName  Level\n",
       "0       162324750          economics      0\n",
       "1        17744445  political science      0\n",
       "2       144024400          sociology      0\n",
       "3        15744967         psychology      0"
      ]
     },
     "execution_count": 7,
     "metadata": {},
     "output_type": "execute_result"
    }
   ],
   "source": [
    "focus_fos.head()"
   ]
  },
  {
   "cell_type": "code",
   "execution_count": 8,
   "id": "bbdb6549",
   "metadata": {},
   "outputs": [],
   "source": [
    "## one way of doing it ##\n",
    "# could just inner join & take NormalizedName instead. \n",
    "# actually, at this point we only need PaperId. "
   ]
  },
  {
   "cell_type": "code",
   "execution_count": 9,
   "id": "081a87d6",
   "metadata": {},
   "outputs": [],
   "source": [
    "# create dataframes \n",
    "def fos_papers(fos, name): \n",
    "    # quick preprocessing\n",
    "    pfs = mag.getDataframe('PaperFieldsOfStudy') \\\n",
    "        .filter(F.col('FieldOfStudyId').isin(fos)) \\\n",
    "        .select('PaperId') \\\n",
    "        .distinct() \n",
    "    print(f\"dtypes {name}: {pfs.dtypes}\")\n",
    "    # write file \n",
    "    mag.saveFile(pfs, \"masters\", f\"{name}_papers.txt\")"
   ]
  },
  {
   "cell_type": "code",
   "execution_count": 10,
   "id": "1fadf2a9",
   "metadata": {
    "scrolled": true
   },
   "outputs": [
    {
     "name": "stdout",
     "output_type": "stream",
     "text": [
      "dtypes economics: [('PaperId', 'bigint')]\n",
      "dtypes politicalscience: [('PaperId', 'bigint')]\n",
      "dtypes sociology: [('PaperId', 'bigint')]\n",
      "dtypes psychology: [('PaperId', 'bigint')]\n"
     ]
    }
   ],
   "source": [
    "for index, row in focus_fos.iterrows():\n",
    "    fos_papers(row['FieldOfStudyId'], row['NormalizedName'].replace(\" \", \"\"))"
   ]
  },
  {
   "cell_type": "markdown",
   "id": "86800ed2",
   "metadata": {},
   "source": [
    "# Subset by Year (2010-2021) and DocType (Journal)\n",
    "including 2010 and and 2020. (not including 2021). <br/>\n",
    "only doctype journal. <br/>\n",
    "subset needed to filter PaperReferences. \n",
    "Here, again - we do not need FieldOfStudyId. "
   ]
  },
  {
   "cell_type": "code",
   "execution_count": 11,
   "id": "891197a6",
   "metadata": {},
   "outputs": [],
   "source": [
    "### this works, but two thigns \n",
    "# (1) we do not need FieldOfStuyId - and\n",
    "# (2) we need to write this as a .csv as well"
   ]
  },
  {
   "cell_type": "code",
   "execution_count": 12,
   "id": "b46ff11c",
   "metadata": {},
   "outputs": [],
   "source": [
    "def subset_data(fos): \n",
    "    papers = mag.getDataframe('Papers') # PaperId, DocType, Date, FamilyId. \n",
    "    fos_papers = mag.getDataframe(f'{fos}_papers') # FieldOfStudyID, PaperId\n",
    "    \n",
    "    # filter papers first - core data set. \n",
    "    sub = papers.filter(F.col('DocType') == 'Journal') \\\n",
    "        .filter((F.col('Date') >= datetime.date(2010, 1, 1)) & (F.col('Date') <= datetime.date(2021, 1, 1))) \\\n",
    "        .join(fos_papers, ['PaperId'], 'inner') \\\n",
    "        .select('PaperId') \\\n",
    "        .distinct()\n",
    "    print(f\"{fos} dtypes: {sub.dtypes}\")\n",
    "    \n",
    "    mag.saveFile(sub, \"masters\", f\"{fos}_subset.txt\")\n",
    "    sub.toPandas().to_csv(f\"/home/vicp/data/2021-08-02/masters/{fos}_subset.csv\", index=False)"
   ]
  },
  {
   "cell_type": "code",
   "execution_count": 13,
   "id": "b4c19974",
   "metadata": {
    "scrolled": true
   },
   "outputs": [
    {
     "name": "stdout",
     "output_type": "stream",
     "text": [
      "sociology dtypes: [('PaperId', 'bigint')]\n",
      "politicalscience dtypes: [('PaperId', 'bigint')]\n",
      "psychology dtypes: [('PaperId', 'bigint')]\n",
      "economics dtypes: [('PaperId', 'bigint')]\n"
     ]
    }
   ],
   "source": [
    "focus_list = ['sociology', 'politicalscience', 'psychology', 'economics']\n",
    "for fos in focus_list:\n",
    "    subset_data(fos)"
   ]
  },
  {
   "cell_type": "code",
   "execution_count": 14,
   "id": "b2cffcd7",
   "metadata": {},
   "outputs": [],
   "source": [
    "## write to csv ## \n",
    "# really should delete FieldOfStudyId"
   ]
  },
  {
   "cell_type": "markdown",
   "id": "42ed01d7",
   "metadata": {},
   "source": [
    "# PaperReferences (v2)"
   ]
  },
  {
   "cell_type": "code",
   "execution_count": 3,
   "id": "ca018388",
   "metadata": {},
   "outputs": [],
   "source": [
    "def get_citation_reference(fos):\n",
    "    '''\n",
    "    ## input\n",
    "    fos: field of study (without space)\n",
    "    \n",
    "    ## output / save\n",
    "    {fos}_reference_or_citation.txt: <folder> one column of PaperId that either is reference or citation of fos. \n",
    "    {fos}_citation: <csv> the subset of PaperReferences (two columns) -- where the fos cites other articles. \n",
    "    {fos}_reference: <csv> the subset of PaperReferences (two columns) -- where the fos are references by other articles.\n",
    "    '''\n",
    "    \n",
    "    # load files\n",
    "    pr = mag.getDataframe('PaperReferences')\n",
    "    fos_subset = mag.getDataframe(f'{fos}_subset')\n",
    "    \n",
    "    # join on both sites \n",
    "    ## the papers that our focus papers cite\n",
    "    #citation = fos_subset.join(pr, [\"PaperId\"], \"inner\") \\\n",
    "    #    .distinct()\n",
    "    \n",
    "    ## the papers that cite our focus papers\n",
    "    ## i.e. our papers have to be PaperReferenceId. \n",
    "    reference = fos_subset.withColumnRenamed('PaperId', 'PaperReferenceId') \\\n",
    "        .join(pr, ['PaperReferenceId'], \"inner\") \\\n",
    "        .distinct()\n",
    "    \n",
    "    # get unique papers that we care about\n",
    "    #citation_col1 = citation.select('PaperReferenceId').distinct().withColumnRenamed('PaperReferenceId', 'PaperId')\n",
    "    #citation_col2 = citation.select('PaperId').distinct()\n",
    "\n",
    "    #reference_col2 = reference.select('PaperId').distinct() \n",
    "\n",
    "    # join them (this is crazy, right?)\n",
    "    #papers_reference_or_citation = citation_col1.join(citation_col2, [\"PaperId\"], \"outer\") \\\n",
    "    #    .join(reference_col1, [\"PaperId\"], \"outer\") \\\n",
    "    #    .join(reference_col2, [\"PaperId\"], \"outer\") \\\n",
    "    #    .distinct()\n",
    "    \n",
    "    ## this should give us all papers (we will gather meta-data for this): \n",
    "    # (1) FoS: from particular field of study (from fos_subset)\n",
    "    # (2) those that have selected field of study as reference (from reference)\n",
    "    # need to combine both to get (1) references, but also (2) psychology papers with no citations. \n",
    "    papers_total = reference.select('PaperId').join(fos_subset, 'PaperId', 'outer').distinct()\n",
    "\n",
    "    # subset with both the papers that reference & the original papers that have NO references. \n",
    "    \n",
    "    # save stuff\n",
    "    #print(f\"{fos} reference_or_citation: {papers_reference_or_citation.dtypes}\")\n",
    "    #mag.saveFile(papers_reference_or_citation, \"masters\", f\"{fos}_reference_or_citation.txt\")\n",
    "    #citation.toPandas().to_csv(f\"/home/vicp/data/2021-08-02/masters/{fos}_citation.csv\", index = False)\n",
    "    print(f\"{fos} papers_total: {papers_total.dtypes}\")\n",
    "    mag.saveFile(papers_total, \"masters\", f\"{fos}_total.txt\")\n",
    "    reference.toPandas().to_csv(f\"/home/vicp/data/2021-08-02/masters/{fos}_reference.csv\", index = False)"
   ]
  },
  {
   "cell_type": "code",
   "execution_count": 4,
   "id": "ab608411",
   "metadata": {
    "scrolled": false
   },
   "outputs": [
    {
     "name": "stdout",
     "output_type": "stream",
     "text": [
      "psychology papers_total: [('PaperId', 'bigint')]\n",
      "sociology papers_total: [('PaperId', 'bigint')]\n",
      "politicalscience papers_total: [('PaperId', 'bigint')]\n",
      "economics papers_total: [('PaperId', 'bigint')]\n"
     ]
    }
   ],
   "source": [
    "focus_list = ['psychology', 'sociology', 'politicalscience', 'economics']\n",
    "for fos in focus_list:\n",
    "    get_citation_reference(fos)"
   ]
  },
  {
   "cell_type": "markdown",
   "id": "a6d6a25d",
   "metadata": {},
   "source": [
    "# Add Field Of Study to papers we care about"
   ]
  },
  {
   "cell_type": "markdown",
   "id": "7018c293",
   "metadata": {},
   "source": [
    "# metadata\n",
    "we add metadata to the subsetted fields"
   ]
  },
  {
   "cell_type": "code",
   "execution_count": 9,
   "id": "962e0087",
   "metadata": {},
   "outputs": [],
   "source": [
    "def get_metadata_papers(fos):\n",
    "    \n",
    "    # load files \n",
    "    papers = mag.getSubset('Papers', ['PaperId', 'PaperTitle', 'DocType', 'Date', 'Year']) # PaperId, DocType, Date, FamilyId. \n",
    "    fos_papers = mag.getDataframe(f'{fos}_total') # PaperId\n",
    "    pfs = mag.getDataframe('PaperFieldsOfStudy') # couples PaperId and FieldOfStudyId\n",
    "    FoS = mag.getDataframe('FoS') # couples FieldOfStudyId and NormalizedName\n",
    "    \n",
    "    # filter papers first - core data set. \n",
    "    fos_papers.join(papers, ['PaperId'], 'inner') \\\n",
    "        .join(pfs, ['PaperId'], 'inner') \\\n",
    "        .join(FoS, ['FieldOfStudyId'], 'inner') \\\n",
    "        .filter(F.col('Level') == 0) \\\n",
    "        .select('PaperId', 'PaperTitle', 'Date', 'DocType', 'NormalizedName') \\\n",
    "        .distinct() \\\n",
    "        .toPandas() \\\n",
    "        .to_csv(f\"/home/vicp/data/2021-08-02/masters/{fos}_paper_meta.csv\", index = False)\n",
    "    print(f\"-- finished processing {fos}\")\n",
    "    "
   ]
  },
  {
   "cell_type": "code",
   "execution_count": 10,
   "id": "663c9110",
   "metadata": {
    "scrolled": true
   },
   "outputs": [
    {
     "name": "stdout",
     "output_type": "stream",
     "text": [
      "-- finished processing psychology\n",
      "-- finished processing sociology\n",
      "-- finished processing politicalscience\n",
      "-- finished processing economics\n"
     ]
    }
   ],
   "source": [
    "focus_list = ['psychology', 'sociology', 'politicalscience', 'economics']\n",
    "for fos in focus_list: \n",
    "    get_metadata_papers(fos)"
   ]
  },
  {
   "cell_type": "code",
   "execution_count": 3,
   "id": "ca0de6ad",
   "metadata": {},
   "outputs": [],
   "source": [
    "def get_paper_author(fos): \n",
    "    # load relevant data\n",
    "    fos_papers = mag.getDataframe(f'{fos}_total') # PaperId\n",
    "    author_affiliations = mag.getSubset('PaperAuthorAffiliations', ['PaperId', 'AuthorId']) # PaperId, AuthorId. \n",
    "    \n",
    "    # inner join\n",
    "    fos_papers.join(author_affiliations, ['PaperId'], \"inner\") \\\n",
    "        .distinct() \\\n",
    "        .toPandas() \\\n",
    "        .to_csv(f\"/home/vicp/data/2021-08-02/masters/{fos}_paper_author.csv\", index = False)\n",
    "    print(f\"-- finished processing {fos}\")"
   ]
  },
  {
   "cell_type": "code",
   "execution_count": 4,
   "id": "cbd30862",
   "metadata": {},
   "outputs": [
    {
     "name": "stdout",
     "output_type": "stream",
     "text": [
      "-- finished processing psychology\n",
      "-- finished processing sociology\n",
      "-- finished processing politicalscience\n",
      "-- finished processing economics\n"
     ]
    }
   ],
   "source": [
    "focus_list = ['psychology', 'sociology', 'politicalscience', 'economics']\n",
    "for fos in focus_list: \n",
    "    get_paper_author(fos)"
   ]
  }
 ],
 "metadata": {
  "kernelspec": {
   "display_name": "Python (nerdenv)",
   "language": "python",
   "name": "nerdenv"
  },
  "language_info": {
   "codemirror_mode": {
    "name": "ipython",
    "version": 3
   },
   "file_extension": ".py",
   "mimetype": "text/x-python",
   "name": "python",
   "nbconvert_exporter": "python",
   "pygments_lexer": "ipython3",
   "version": "3.8.8"
  }
 },
 "nbformat": 4,
 "nbformat_minor": 5
}
