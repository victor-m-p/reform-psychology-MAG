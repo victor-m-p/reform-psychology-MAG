{
 "cells": [
  {
   "cell_type": "code",
   "execution_count": 1,
   "id": "629e9424",
   "metadata": {},
   "outputs": [
    {
     "data": {
      "text/plain": [
       "'\\nVMP 2022-02-09: \\ncheck overlap between psychology, economy, political science, sociology and reproducibility, open science and replication\\n'"
      ]
     },
     "execution_count": 1,
     "metadata": {},
     "output_type": "execute_result"
    }
   ],
   "source": [
    "'''\n",
    "VMP 2022-02-09: \n",
    "check overlap between psychology, economy, political science, sociology and reproducibility, open science and replication\n",
    "'''"
   ]
  },
  {
   "cell_type": "code",
   "execution_count": 2,
   "id": "24e6eb48",
   "metadata": {},
   "outputs": [
    {
     "name": "stdout",
     "output_type": "stream",
     "text": [
      "['NAME STATE JOBID', 'cluster_new.job RUNNING 66005', 'jupyter-notebook RUNNING 65985', '1.train.0 RUNNING 65995', '4.train.0 RUNNING 65986', '4.train.1 RUNNING 65987', '4.train.2 RUNNING 65988', '4.train.3 RUNNING 65989', '4.train.4 RUNNING 65990', '4.train.5 RUNNING 65991', '']\n"
     ]
    }
   ],
   "source": [
    "import sys  \n",
    "sys.path.insert(0, '/home/vicp')\n",
    "from MAGsparkmasters import get_mag_with_cluster_connection\n",
    "from MAGmasters import MicrosoftAcademicGraph\n",
    "import os\n",
    "from pyspark.sql import functions as F, Window\n",
    "import pandas as pd\n",
    "import matplotlib.pyplot as plt\n",
    "import datetime, time\n",
    "import numpy as np\n",
    "from pyspark.sql.functions import avg\n",
    "os.chdir('/home/vicp')\n",
    "mag, spark = get_mag_with_cluster_connection(66005, \n",
    "                               memory_per_executor=16000)"
   ]
  },
  {
   "cell_type": "code",
   "execution_count": 3,
   "id": "6e6c4f8b",
   "metadata": {
    "scrolled": true
   },
   "outputs": [
    {
     "data": {
      "text/html": [
       "\n",
       "            <div>\n",
       "                <p><b>SparkSession - in-memory</b></p>\n",
       "                \n",
       "        <div>\n",
       "            <p><b>SparkContext</b></p>\n",
       "\n",
       "            <p><a href=\"http://desktop12.hpc.itu.dk:4040\">Spark UI</a></p>\n",
       "\n",
       "            <dl>\n",
       "              <dt>Version</dt>\n",
       "                <dd><code>v3.0.3</code></dd>\n",
       "              <dt>Master</dt>\n",
       "                <dd><code>spark://172.16.16.101:7077</code></dd>\n",
       "              <dt>AppName</dt>\n",
       "                <dd><code>pyspark-shell</code></dd>\n",
       "            </dl>\n",
       "        </div>\n",
       "        \n",
       "            </div>\n",
       "        "
      ],
      "text/plain": [
       "<pyspark.sql.session.SparkSession at 0x7fb141556370>"
      ]
     },
     "execution_count": 3,
     "metadata": {},
     "output_type": "execute_result"
    }
   ],
   "source": [
    "spark"
   ]
  },
  {
   "cell_type": "markdown",
   "id": "b03c99aa",
   "metadata": {},
   "source": [
    "# Load data"
   ]
  },
  {
   "cell_type": "code",
   "execution_count": 23,
   "id": "9a924b48",
   "metadata": {},
   "outputs": [],
   "source": [
    "# load our documents \n",
    "psych = mag.getDataframe('psychology_total')\n",
    "econ = mag.getDataframe('economics_total')\n",
    "pol = mag.getDataframe('politicalscience_total')\n",
    "soc = mag.getDataframe('sociology_total')"
   ]
  },
  {
   "cell_type": "code",
   "execution_count": 24,
   "id": "e98b5b77",
   "metadata": {},
   "outputs": [],
   "source": [
    "# load other data-sets \n",
    "FoS = mag.getDataframe('FoS')\n",
    "pfs = mag.getDataframe('PaperFieldsOfStudy')"
   ]
  },
  {
   "cell_type": "markdown",
   "id": "a90e332c",
   "metadata": {},
   "source": [
    "# Gather by search terms (open science, reproducibility, replication)"
   ]
  },
  {
   "cell_type": "code",
   "execution_count": 25,
   "id": "d26ebe8c",
   "metadata": {},
   "outputs": [],
   "source": [
    "open_science = FoS.filter(F.col('NormalizedName') == 'open science') \\\n",
    "    .select('FieldOfStudyId', 'NormalizedName')"
   ]
  },
  {
   "cell_type": "code",
   "execution_count": 26,
   "id": "1cfa57a2",
   "metadata": {},
   "outputs": [],
   "source": [
    "reproducibility = FoS.filter(F.col('NormalizedName') == 'reproducibility') \\\n",
    "    .select('FieldOfStudyId', 'NormalizedName')"
   ]
  },
  {
   "cell_type": "code",
   "execution_count": 27,
   "id": "11a5d8ff",
   "metadata": {},
   "outputs": [],
   "source": [
    "replication = FoS.filter((F.col('NormalizedName') == 'replication') & (F.col('Level') == 2)) \\\n",
    "    .select('FieldOfStudyId', 'NormalizedName')"
   ]
  },
  {
   "cell_type": "markdown",
   "id": "54a43e1d",
   "metadata": {},
   "source": [
    "# Get overlap between main fields & sub-categories of interest"
   ]
  },
  {
   "cell_type": "code",
   "execution_count": 34,
   "id": "cd6b3624",
   "metadata": {},
   "outputs": [],
   "source": [
    "def get_overlap(fos, sub_fos): \n",
    "    '''\n",
    "    fos: <str> main field of study (e.g. \"psychology\" or \"economics\")\n",
    "    sub_fos: <str> sub-field, e.g. \"open science\" or \"reproducibility\"\n",
    "    '''\n",
    "    \n",
    "    # load stuff\n",
    "    fos_total = mag.getDataframe(f'{fos}_total')\n",
    "    FoS = mag.getDataframe('FoS')\n",
    "    pfs = mag.getDataframe('PaperFieldsOfStudy')\n",
    "    subfos_df = FoS.filter((F.col('NormalizedName') == sub_fos) & (F.col('Level') == 2)) \\\n",
    "        .select('FieldOfStudyId', 'NormalizedName') \n",
    "    \n",
    "    # for output\n",
    "    sub_fos_name = sub_fos.replace(\" \", \"\")\n",
    "    \n",
    "    # join everything to get the articles \n",
    "    subfos_df.join(pfs, ['FieldOfStudyId'], \"inner\") \\\n",
    "        .join(fos_total, ['PaperId'], \"inner\") \\\n",
    "        .select('PaperId', 'NormalizedName') \\\n",
    "        .distinct() \\\n",
    "        .toPandas() \\\n",
    "        .to_csv(f\"/home/vicp/data/2021-08-02/masters/{fos}_{sub_fos_name}.csv\", index = False)\n",
    "    \n",
    "    # print \n",
    "    print(f\"--- finished computing overlap between {fos} and {sub_fos} \\n\")"
   ]
  },
  {
   "cell_type": "code",
   "execution_count": null,
   "id": "2ebbb834",
   "metadata": {},
   "outputs": [
    {
     "name": "stdout",
     "output_type": "stream",
     "text": [
      "--- finished computing overlap between psychology and open science \n",
      "\n",
      "--- finished computing overlap between psychology and replication \n",
      "\n",
      "--- finished computing overlap between psychology and reproducibility \n",
      "\n",
      "--- finished computing overlap between economics and open science \n",
      "\n",
      "--- finished computing overlap between economics and replication \n",
      "\n",
      "--- finished computing overlap between economics and reproducibility \n",
      "\n"
     ]
    }
   ],
   "source": [
    "for fos in [\"psychology\", \"economics\", \"politicalscience\", \"sociology\"]: \n",
    "    for sub_fos in [\"open science\", \"replication\", \"reproducibility\"]: \n",
    "        get_overlap(fos, sub_fos)"
   ]
  },
  {
   "cell_type": "markdown",
   "id": "83050fdf",
   "metadata": {},
   "source": [
    "# Rough check on results"
   ]
  },
  {
   "cell_type": "code",
   "execution_count": null,
   "id": "01092eab",
   "metadata": {},
   "outputs": [],
   "source": [
    "# just run this loop: \n",
    "for fos in [\"psychology\", \"economics\", \"politicalscience\", \"sociology\"]: \n",
    "    for sub_fos in [\"openscience\", \"replication\", \"reproducibility\"]: \n",
    "        case = pd.read_csv(f\"/home/vicp/data/2021-08-02/masters/{fos}_{sub_fos}.csv\")\n",
    "        n_records = len(case) \n",
    "        print(f\"--- overlap between {fos} and {sub_fos} is {n_records} \\n\")"
   ]
  }
 ],
 "metadata": {
  "kernelspec": {
   "display_name": "Python (nerdenv)",
   "language": "python",
   "name": "nerdenv"
  },
  "language_info": {
   "codemirror_mode": {
    "name": "ipython",
    "version": 3
   },
   "file_extension": ".py",
   "mimetype": "text/x-python",
   "name": "python",
   "nbconvert_exporter": "python",
   "pygments_lexer": "ipython3",
   "version": "3.8.8"
  }
 },
 "nbformat": 4,
 "nbformat_minor": 5
}
