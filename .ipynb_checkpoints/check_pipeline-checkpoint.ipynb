{
 "cells": [
  {
   "cell_type": "code",
   "execution_count": 2,
   "id": "a01de923",
   "metadata": {},
   "outputs": [
    {
     "data": {
      "text/plain": [
       "\"\\nVMP 2022-02-09: \\nChecks whether the intended analysis is feasible & \\nprovides a second sanity check (besides 'check_preprocessing.ipynb')\\n\""
      ]
     },
     "execution_count": 2,
     "metadata": {},
     "output_type": "execute_result"
    }
   ],
   "source": [
    "'''\n",
    "VMP 2022-02-09: \n",
    "Checks whether the intended analysis is feasible & \n",
    "provides a second sanity check (besides 'check_preprocessing.ipynb')\n",
    "'''"
   ]
  },
  {
   "cell_type": "code",
   "execution_count": 3,
   "id": "7982780e",
   "metadata": {},
   "outputs": [],
   "source": [
    "import pandas as pd\n",
    "import matplotlib.pyplot as plt\n",
    "import numpy as np\n",
    "import datetime, time\n",
    "pd.options.mode.chained_assignment = None  # default='warn'"
   ]
  },
  {
   "cell_type": "markdown",
   "id": "7b4c193f",
   "metadata": {},
   "source": [
    "# Load relevant files"
   ]
  },
  {
   "cell_type": "code",
   "execution_count": 4,
   "id": "7ba5f9dc",
   "metadata": {},
   "outputs": [],
   "source": [
    "inpath = \"/home/vicp/data/2021-08-02/masters/\""
   ]
  },
  {
   "cell_type": "code",
   "execution_count": null,
   "id": "456b2e6b",
   "metadata": {},
   "outputs": [
    {
     "name": "stdout",
     "output_type": "stream",
     "text": [
      "ERROR! Session/line number was not unique in database. History logging moved to new session 823\n"
     ]
    }
   ],
   "source": [
    "psych = pd.read_csv(f\"{inpath}psychology_paper_meta.csv\")\n",
    "econ = pd.read_csv(f\"{inpath}economics_paper_meta.csv\")\n",
    "pol = pd.read_csv(f\"{inpath}politicalscience_paper_meta.csv\")\n",
    "soc = pd.read_csv(f\"{inpath}sociology_paper_meta.csv\")"
   ]
  },
  {
   "cell_type": "code",
   "execution_count": null,
   "id": "96f73048",
   "metadata": {},
   "outputs": [],
   "source": [
    "# to datetime \n",
    "def to_datetime(df): \n",
    "    df[\"Date\"] = pd.to_datetime(df[\"Date\"]).dt.date\n",
    "    return df"
   ]
  },
  {
   "cell_type": "code",
   "execution_count": null,
   "id": "080e057a",
   "metadata": {},
   "outputs": [],
   "source": [
    "psych = to_datetime(psych)\n",
    "econ = to_datetime(econ)\n",
    "pol = to_datetime(pol)\n",
    "soc = to_datetime(soc)"
   ]
  },
  {
   "cell_type": "code",
   "execution_count": null,
   "id": "22bf6d05",
   "metadata": {},
   "outputs": [],
   "source": [
    "psych_sub = pd.read_csv(f\"{inpath}psychology_subset.csv\")\n",
    "econ_sub = pd.read_csv(f\"{inpath}economics_subset.csv\")\n",
    "pol_sub = pd.read_csv(f\"{inpath}politicalscience_subset.csv\")\n",
    "soc_sub = pd.read_csv(f\"{inpath}sociology_subset.csv\")"
   ]
  },
  {
   "cell_type": "markdown",
   "id": "50335f72",
   "metadata": {},
   "source": [
    "# Replication \n",
    "Quick check, whether \"replicat*\" is present (enough) in titles to analyze. <br/>\n",
    "Other terms, e.g. \"reproduc*\", or variants of open science / open data could also be interesting. <br/>\n",
    "Psychology is golden, but the other fields are very small (for replication). <br/>\n",
    "Options: <br/>\n",
    "(1) Do just psychology (do this first) <br/>\n",
    "(2) Less than five-year citation delay (could be okay to get more recent trends) <br/>\n",
    "(3) Get other field (e.g. some biomedical stuff..?)"
   ]
  },
  {
   "cell_type": "code",
   "execution_count": null,
   "id": "51597b18",
   "metadata": {},
   "outputs": [],
   "source": [
    "def check_replication(df, df_sub): \n",
    "    df = df.merge(df_sub, on = 'PaperId', how = 'inner') # only from selection (could also be done smarter). \n",
    "    df = df[[\"PaperId\", \"PaperTitle\", \"Date\"]].drop_duplicates() # \n",
    "    df_replication = df.loc[df['PaperTitle'].str.contains(\"replicat\", case=False)]\n",
    "    df_replication_before2016 = df_replication[df_replication[\"Date\"] <= datetime.date(2016, 1, 1)]\n",
    "    print(f\"total matches: \\n{len(df_replication)} \\n\")\n",
    "    print(f\"before 2016: \\n{len(df_replication_before2016)} \\n\")\n",
    "    print(f\"overview: \\n{df_replication_before2016.head(3)}\")\n",
    "    return df_replication_before2016"
   ]
  },
  {
   "cell_type": "code",
   "execution_count": null,
   "id": "0b2b432c",
   "metadata": {},
   "outputs": [],
   "source": [
    "# psychology: \n",
    "# (1) enough data to be doable.\n",
    "# (2) several large-scale replications (i.e. large difference between papers and authorships)\n",
    "psych_replication = check_replication(psych, psych_sub)"
   ]
  },
  {
   "cell_type": "code",
   "execution_count": null,
   "id": "04c13132",
   "metadata": {},
   "outputs": [],
   "source": [
    "# econ\n",
    "# (1) could still be useful evon though it is less. \n",
    "econ_replication = check_replication(econ, econ_sub)"
   ]
  },
  {
   "cell_type": "code",
   "execution_count": null,
   "id": "eb824fd8",
   "metadata": {},
   "outputs": [],
   "source": [
    "# pol\n",
    "# (1) probably not enough. \n",
    "pol_replication = check_replication(pol, pol_sub)"
   ]
  },
  {
   "cell_type": "code",
   "execution_count": null,
   "id": "fb86b27e",
   "metadata": {},
   "outputs": [],
   "source": [
    "# soc\n",
    "# (1) could be enough. \n",
    "soc_replication = check_replication(soc, soc_sub)"
   ]
  },
  {
   "cell_type": "markdown",
   "id": "174fdcbd",
   "metadata": {},
   "source": [
    "# Check a few manually to verify term"
   ]
  },
  {
   "cell_type": "code",
   "execution_count": null,
   "id": "2ad70ae5",
   "metadata": {},
   "outputs": [],
   "source": [
    "pd.options.display.max_colwidth = 100"
   ]
  },
  {
   "cell_type": "code",
   "execution_count": null,
   "id": "d54e625e",
   "metadata": {},
   "outputs": [],
   "source": [
    "def print_first_n_rows(df, n):\n",
    "    for i in range(n):\n",
    "        print(f\"row {i}: {df.iloc[i, 1]} \\n\")"
   ]
  },
  {
   "cell_type": "code",
   "execution_count": null,
   "id": "0e4334f6",
   "metadata": {},
   "outputs": [],
   "source": [
    "# psychology\n",
    "# many of these are actually replication studies. \n",
    "# could screen e.g. 50-100 manually \n",
    "print_first_n_rows(psych_replication, 10)"
   ]
  },
  {
   "cell_type": "code",
   "execution_count": null,
   "id": "3eff6b67",
   "metadata": {},
   "outputs": [],
   "source": [
    "# a lot of this is NOT replication studies. \n",
    "print_first_n_rows(econ_replication, 10)"
   ]
  },
  {
   "cell_type": "code",
   "execution_count": null,
   "id": "b98d062f",
   "metadata": {},
   "outputs": [],
   "source": [
    "# also a lot of not actually replication\n",
    "print_first_n_rows(soc_replication, 10)"
   ]
  },
  {
   "cell_type": "code",
   "execution_count": null,
   "id": "49d78098",
   "metadata": {},
   "outputs": [],
   "source": [
    "# mixed bag here. \n",
    "print_first_n_rows(pol_replication, 10)"
   ]
  },
  {
   "cell_type": "code",
   "execution_count": null,
   "id": "2089f2f3",
   "metadata": {},
   "outputs": [],
   "source": [
    "## take-away: \n",
    "# (1) there is a lot of what we are actually looking for in *psychology* but not the other fields. \n",
    "# Could do either one of three things: \n",
    "## 1. look only at psychology\n",
    "## 2. take the few studies that are there in the other fields \n",
    "## 3. take other fields (e.g. bio-medicine) \n",
    "## 4. partial psychology up into sub-fields (e.g. social psychology) - should be in MAG, but reliable?"
   ]
  },
  {
   "cell_type": "markdown",
   "id": "583380a3",
   "metadata": {},
   "source": [
    "# Citations over time"
   ]
  },
  {
   "cell_type": "code",
   "execution_count": null,
   "id": "60b1567a",
   "metadata": {},
   "outputs": [],
   "source": [
    "# load the \"reference\" dataframe\n",
    "psych_references = pd.read_csv(\"/home/vicp/data/2021-08-02/masters/psychology_reference.csv\")"
   ]
  },
  {
   "cell_type": "code",
   "execution_count": null,
   "id": "96798f66",
   "metadata": {},
   "outputs": [],
   "source": [
    "# pick a paper-id (this one is a systematic replication)\n",
    "focus_paperid = psych_replication.iloc[5, 0]"
   ]
  },
  {
   "cell_type": "code",
   "execution_count": null,
   "id": "b05d643a",
   "metadata": {},
   "outputs": [],
   "source": [
    "refs_focus = psych_references[psych_references[\"PaperReferenceId\"] == focus_paperid][['PaperId']]\n",
    "print(len(refs_focus))"
   ]
  },
  {
   "cell_type": "code",
   "execution_count": null,
   "id": "d94e0f1d",
   "metadata": {},
   "outputs": [],
   "source": [
    "# bind with our other data-frame \n",
    "refs_focus_meta = psych.merge(refs_focus, on='PaperId', how = \"inner\")\n",
    "print(len(refs_focus_meta))"
   ]
  },
  {
   "cell_type": "code",
   "execution_count": null,
   "id": "09c7d2ab",
   "metadata": {},
   "outputs": [],
   "source": [
    "### check that dates make sense ### "
   ]
  },
  {
   "cell_type": "code",
   "execution_count": null,
   "id": "94eee13f",
   "metadata": {},
   "outputs": [],
   "source": [
    "cites_focus_meta.sort_values('Date', ascending=True).head(5)"
   ]
  },
  {
   "cell_type": "code",
   "execution_count": null,
   "id": "5916ddef",
   "metadata": {},
   "outputs": [],
   "source": [
    "# bind focus article with other data-frame\n",
    "focus_article_meta = psych[psych[\"PaperId\"] == focus_paperid]\n",
    "focus_article_meta.head()"
   ]
  },
  {
   "cell_type": "code",
   "execution_count": null,
   "id": "8390a405",
   "metadata": {},
   "outputs": [],
   "source": [
    "### plot it ### \n",
    "# (1) of course this is terrible \n",
    "# (2) we need to insert when the article was published, but this shows that it works \n",
    "# (3) need to implement the c_5 so that we cap citations at five years. "
   ]
  },
  {
   "cell_type": "code",
   "execution_count": null,
   "id": "90a702b5",
   "metadata": {},
   "outputs": [],
   "source": [
    "cites_focus_meta = cites_focus_meta.sort_values('Date', ascending=True).reset_index()"
   ]
  },
  {
   "cell_type": "code",
   "execution_count": null,
   "id": "7f7b164c",
   "metadata": {},
   "outputs": [],
   "source": [
    "cites_focus_meta['value'] = [i+1 for i, row in cites_focus_meta.iterrows()]"
   ]
  },
  {
   "cell_type": "code",
   "execution_count": null,
   "id": "081c9053",
   "metadata": {},
   "outputs": [],
   "source": [
    "plt.fill_between(cites_focus_meta.Date, cites_focus_meta.value)\n",
    "plt.xticks(rotation = 45)\n",
    "plt.title(f\"citations for id: {focus_paperid}\")\n",
    "plt.show();"
   ]
  },
  {
   "cell_type": "markdown",
   "id": "f34b9be6",
   "metadata": {},
   "source": [
    "# Matching on team size & date"
   ]
  },
  {
   "cell_type": "code",
   "execution_count": null,
   "id": "2e152c18",
   "metadata": {},
   "outputs": [],
   "source": [
    "### NB: \n",
    "# (1) we need to make sure that the papers we are matching with are NOT in e.g. \"replication\" set. "
   ]
  },
  {
   "cell_type": "code",
   "execution_count": null,
   "id": "0fc46cef",
   "metadata": {},
   "outputs": [],
   "source": [
    "# same paper as before: \n",
    "focus_paperid = psych_replication.iloc[5, 0]"
   ]
  },
  {
   "cell_type": "code",
   "execution_count": null,
   "id": "40e377a2",
   "metadata": {},
   "outputs": [],
   "source": [
    "# get \"team-size\" for all papers in psychology\n",
    "psych_paa = pd.read_csv(f\"{inpath}psychology_paper_author.csv\")\n",
    "psych_team_size = psych_paa.groupby('PaperId').size().to_frame('n_authors').reset_index()"
   ]
  },
  {
   "cell_type": "code",
   "execution_count": null,
   "id": "20b8041b",
   "metadata": {},
   "outputs": [],
   "source": [
    "# get date as well \n",
    "psych_team_date = psych.merge(psych_team_size, on = 'PaperId', how = 'inner')[[\"PaperId\", \"Date\", \"n_authors\"]]"
   ]
  },
  {
   "cell_type": "code",
   "execution_count": null,
   "id": "6b1e8ad6",
   "metadata": {},
   "outputs": [],
   "source": [
    "# get the data for our focus paper\n",
    "focus_paper_date_authors = psych_team_date[psych_team_date[\"PaperId\"] == focus_paperid]"
   ]
  },
  {
   "cell_type": "code",
   "execution_count": null,
   "id": "5379f3ad",
   "metadata": {},
   "outputs": [],
   "source": [
    "focus_date = focus_paper_date_authors.iloc[0, 1]\n",
    "focus_nauthors = focus_paper_date_authors.iloc[0, 2]"
   ]
  },
  {
   "cell_type": "code",
   "execution_count": null,
   "id": "85b6d2bf",
   "metadata": {},
   "outputs": [],
   "source": [
    "print(focus_date)\n",
    "print(focus_nauthors)"
   ]
  },
  {
   "cell_type": "code",
   "execution_count": null,
   "id": "2d01d587",
   "metadata": {},
   "outputs": [],
   "source": [
    "# exact matching: \n",
    "matches = psych_team_date[(psych_team_date[\"Date\"] == focus_date) & \n",
    "                (psych_team_date[\"n_authors\"] == focus_nauthors)]"
   ]
  },
  {
   "cell_type": "code",
   "execution_count": null,
   "id": "18ad7914",
   "metadata": {},
   "outputs": [],
   "source": [
    "# randomly sample a matching study: \n",
    "random_match = matches.sample(n = 1, random_state = 231)"
   ]
  },
  {
   "cell_type": "code",
   "execution_count": null,
   "id": "25468a30",
   "metadata": {},
   "outputs": [],
   "source": [
    "# we now have a random match\n",
    "random_match"
   ]
  }
 ],
 "metadata": {
  "kernelspec": {
   "display_name": "Python (nerdenv)",
   "language": "python",
   "name": "nerdenv"
  },
  "language_info": {
   "codemirror_mode": {
    "name": "ipython",
    "version": 3
   },
   "file_extension": ".py",
   "mimetype": "text/x-python",
   "name": "python",
   "nbconvert_exporter": "python",
   "pygments_lexer": "ipython3",
   "version": "3.8.8"
  }
 },
 "nbformat": 4,
 "nbformat_minor": 5
}
