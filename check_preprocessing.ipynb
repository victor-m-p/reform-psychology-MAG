{
 "cells": [
  {
   "cell_type": "code",
   "execution_count": null,
   "id": "1d72b4df",
   "metadata": {},
   "outputs": [],
   "source": [
    "'''\n",
    "VMP 2022-02-08: \n",
    "key document for checking preprocessing. \n",
    "also checks whether the analysis broadly is feasible. \n",
    "'''"
   ]
  },
  {
   "cell_type": "code",
   "execution_count": 1,
   "id": "09512990",
   "metadata": {},
   "outputs": [],
   "source": [
    "import pandas as pd\n",
    "import matplotlib.pyplot as plt\n",
    "import numpy as np\n",
    "import datetime, time\n",
    "pd.options.mode.chained_assignment = None  # default='warn'"
   ]
  },
  {
   "cell_type": "markdown",
   "id": "f562d463",
   "metadata": {},
   "source": [
    "# Read paper-meta files"
   ]
  },
  {
   "cell_type": "code",
   "execution_count": 2,
   "id": "c0af573d",
   "metadata": {},
   "outputs": [],
   "source": [
    "inpath = \"/home/vicp/data/2021-08-02/masters/\""
   ]
  },
  {
   "cell_type": "code",
   "execution_count": 3,
   "id": "5b70994b",
   "metadata": {},
   "outputs": [],
   "source": [
    "psych = pd.read_csv(f\"{inpath}psychology_paper_meta.csv\")\n",
    "econ = pd.read_csv(f\"{inpath}economics_paper_meta.csv\")\n",
    "pol = pd.read_csv(f\"{inpath}politicalscience_paper_meta.csv\")\n",
    "soc = pd.read_csv(f\"{inpath}sociology_paper_meta.csv\")"
   ]
  },
  {
   "cell_type": "code",
   "execution_count": 20,
   "id": "f0d3b184",
   "metadata": {},
   "outputs": [],
   "source": [
    "# to datetime \n",
    "def to_datetime(df): \n",
    "    df[\"Date\"] = pd.to_datetime(df[\"Date\"]).dt.date\n",
    "    return df"
   ]
  },
  {
   "cell_type": "code",
   "execution_count": 21,
   "id": "d0aac9cd",
   "metadata": {},
   "outputs": [],
   "source": [
    "psych = to_datetime(psych)\n",
    "econ = to_datetime(econ)\n",
    "pol = to_datetime(pol)\n",
    "soc = to_datetime(soc)"
   ]
  },
  {
   "cell_type": "markdown",
   "id": "1d50de0d",
   "metadata": {},
   "source": [
    "# Quick Check"
   ]
  },
  {
   "cell_type": "code",
   "execution_count": 10,
   "id": "4926853d",
   "metadata": {},
   "outputs": [],
   "source": [
    "def quick_check(df): \n",
    "    doctype = df.groupby('DocType').size().to_frame('size').reset_index().sort_values('size', ascending=False)\n",
    "    field = df.groupby('NormalizedName').size().to_frame('size').reset_index().sort_values('size', ascending=False)\n",
    "    print(f\"*rows*: \\n{len(df)} \\n\")\n",
    "    print(f\"*DocType*: \\n{doctype.head(5)} \\n\")\n",
    "    print(f\"*field*: \\n{field.head(5)}\")"
   ]
  },
  {
   "cell_type": "code",
   "execution_count": 11,
   "id": "0ebf781e",
   "metadata": {},
   "outputs": [
    {
     "name": "stdout",
     "output_type": "stream",
     "text": [
      "*rows*: \n",
      "1970876 \n",
      "\n",
      "*DocType*: \n",
      "       DocType     size\n",
      "4      Journal  1401606\n",
      "6   Repository   130121\n",
      "2   Conference    41301\n",
      "7       Thesis    34896\n",
      "1  BookChapter    33365 \n",
      "\n",
      "*field*: \n",
      "       NormalizedName    size\n",
      "5           economics  739880\n",
      "2            business  383239\n",
      "16  political science  165167\n",
      "4    computer science  146163\n",
      "17         psychology  101906\n"
     ]
    }
   ],
   "source": [
    "# economics\n",
    "quick_check(econ)"
   ]
  },
  {
   "cell_type": "code",
   "execution_count": 12,
   "id": "a6e10d6f",
   "metadata": {},
   "outputs": [
    {
     "name": "stdout",
     "output_type": "stream",
     "text": [
      "*rows*: \n",
      "4757436 \n",
      "\n",
      "*DocType*: \n",
      "       DocType     size\n",
      "4      Journal  3751064\n",
      "2   Conference   110516\n",
      "6   Repository    86661\n",
      "7       Thesis    74429\n",
      "1  BookChapter    68592 \n",
      "\n",
      "*field*: \n",
      "      NormalizedName     size\n",
      "17        psychology  2342205\n",
      "13          medicine   968751\n",
      "4   computer science   347418\n",
      "18         sociology   237605\n",
      "1            biology   187561\n"
     ]
    }
   ],
   "source": [
    "# psychology\n",
    "quick_check(psych)"
   ]
  },
  {
   "cell_type": "code",
   "execution_count": 13,
   "id": "c31cc0f9",
   "metadata": {},
   "outputs": [
    {
     "name": "stdout",
     "output_type": "stream",
     "text": [
      "*rows*: \n",
      "1794879 \n",
      "\n",
      "*DocType*: \n",
      "       DocType     size\n",
      "4      Journal  1426469\n",
      "1  BookChapter    32583\n",
      "6   Repository    31346\n",
      "7       Thesis    26069\n",
      "2   Conference    16399 \n",
      "\n",
      "*field*: \n",
      "       NormalizedName    size\n",
      "16  political science  919993\n",
      "18          sociology  167959\n",
      "2            business  145217\n",
      "17         psychology  138343\n",
      "13           medicine  100862\n"
     ]
    }
   ],
   "source": [
    "# pol\n",
    "quick_check(pol)"
   ]
  },
  {
   "cell_type": "code",
   "execution_count": 14,
   "id": "ce1eca13",
   "metadata": {},
   "outputs": [
    {
     "name": "stdout",
     "output_type": "stream",
     "text": [
      "*rows*: \n",
      "2414270 \n",
      "\n",
      "*DocType*: \n",
      "       DocType     size\n",
      "4      Journal  1820678\n",
      "1  BookChapter    57329\n",
      "7       Thesis    47623\n",
      "2   Conference    35779\n",
      "6   Repository    28303 \n",
      "\n",
      "*field*: \n",
      "       NormalizedName     size\n",
      "18          sociology  1088640\n",
      "17         psychology   372368\n",
      "16  political science   283122\n",
      "2            business   166410\n",
      "4    computer science   108061\n"
     ]
    }
   ],
   "source": [
    "# sociology\n",
    "quick_check(soc)"
   ]
  },
  {
   "cell_type": "code",
   "execution_count": null,
   "id": "c339e480",
   "metadata": {},
   "outputs": [],
   "source": [
    "## overall looks good, but one caveat: \n",
    "# (1) we are not seing \"None\" for DocType here because it is somehow \"hidden\". "
   ]
  },
  {
   "cell_type": "markdown",
   "id": "2c533c94",
   "metadata": {},
   "source": [
    "# How many are part of original \"focus\" articles"
   ]
  },
  {
   "cell_type": "code",
   "execution_count": 22,
   "id": "4b59052c",
   "metadata": {},
   "outputs": [],
   "source": [
    "psych_sub = pd.read_csv(f\"{inpath}psychology_subset.csv\")\n",
    "econ_sub = pd.read_csv(f\"{inpath}economics_subset.csv\")\n",
    "pol_sub = pd.read_csv(f\"{inpath}politicalscience_subset.csv\")\n",
    "soc_sub = pd.read_csv(f\"{inpath}sociology_subset.csv\")"
   ]
  },
  {
   "cell_type": "code",
   "execution_count": 35,
   "id": "202fa35f",
   "metadata": {},
   "outputs": [],
   "source": [
    "def sanity_check(df, df_sub, fos): \n",
    "    df_paperids = df[[\"PaperId\"]].drop_duplicates()\n",
    "    #df_sub_paperids = df_sub[[\"PaperId\"]].drop_duplicates()\n",
    "    # overlap should be all of subset \n",
    "    overlap = df_sub.merge(df_paperids, on = \"PaperId\", how = \"inner\").drop_duplicates()\n",
    "    # overlap (& subset) should be the same as filtering\n",
    "    # should become more or less equal to \"subset\" if we also do by age...\n",
    "    filtering = len(df[(df[\"NormalizedName\"] == f'{fos}') & \n",
    "                       (df[\"DocType\"] == 'Journal') & \n",
    "                       (df[\"Date\"] >= datetime.date(2010, 1, 1)) & \n",
    "                       (df[\"Date\"] <= datetime.date(2021, 1, 1))])\n",
    "    print(f\"total papers {fos}: \\n{len(df)} \\n\")\n",
    "    print(f\"subset papers {fos}: \\n{len(df_sub)} \\n\")\n",
    "    print(f\"overlap: \\n{len(overlap)} \\n\")\n",
    "    print(f\"by filtering: \\n{filtering}\")"
   ]
  },
  {
   "cell_type": "code",
   "execution_count": 36,
   "id": "5581d9cb",
   "metadata": {
    "scrolled": true
   },
   "outputs": [
    {
     "name": "stdout",
     "output_type": "stream",
     "text": [
      "total papers psychology: \n",
      "4757436 \n",
      "\n",
      "subset papers psychology: \n",
      "1888024 \n",
      "\n",
      "overlap: \n",
      "1888024 \n",
      "\n",
      "by filtering: \n",
      "1888024\n"
     ]
    }
   ],
   "source": [
    "sanity_check(psych, psych_sub, \"psychology\")"
   ]
  },
  {
   "cell_type": "code",
   "execution_count": 37,
   "id": "93da294d",
   "metadata": {},
   "outputs": [
    {
     "name": "stdout",
     "output_type": "stream",
     "text": [
      "total papers economics: \n",
      "1970876 \n",
      "\n",
      "subset papers economics: \n",
      "582689 \n",
      "\n",
      "overlap: \n",
      "582689 \n",
      "\n",
      "by filtering: \n",
      "582689\n"
     ]
    }
   ],
   "source": [
    "sanity_check(econ, econ_sub, \"economics\")"
   ]
  },
  {
   "cell_type": "code",
   "execution_count": 38,
   "id": "9a744f9a",
   "metadata": {},
   "outputs": [
    {
     "name": "stdout",
     "output_type": "stream",
     "text": [
      "total papers sociology: \n",
      "2414270 \n",
      "\n",
      "subset papers sociology: \n",
      "953341 \n",
      "\n",
      "overlap: \n",
      "953341 \n",
      "\n",
      "by filtering: \n",
      "953341\n"
     ]
    }
   ],
   "source": [
    "sanity_check(soc, soc_sub, \"sociology\")"
   ]
  },
  {
   "cell_type": "code",
   "execution_count": 39,
   "id": "fa05ff49",
   "metadata": {},
   "outputs": [
    {
     "name": "stdout",
     "output_type": "stream",
     "text": [
      "total papers political science: \n",
      "1794879 \n",
      "\n",
      "subset papers political science: \n",
      "768704 \n",
      "\n",
      "overlap: \n",
      "768704 \n",
      "\n",
      "by filtering: \n",
      "768704\n"
     ]
    }
   ],
   "source": [
    "sanity_check(pol, pol_sub, \"political science\")"
   ]
  },
  {
   "cell_type": "markdown",
   "id": "452fdd1c",
   "metadata": {},
   "source": [
    "# authorships"
   ]
  },
  {
   "cell_type": "code",
   "execution_count": 74,
   "id": "1342ac82",
   "metadata": {},
   "outputs": [],
   "source": [
    "psych_paa = pd.read_csv(f\"{inpath}psychology_paper_author.csv\")\n",
    "econ_paa = pd.read_csv(f\"{inpath}economics_paper_author.csv\")\n",
    "pol_paa = pd.read_csv(f\"{inpath}politicalscience_paper_author.csv\")\n",
    "soc_paa = pd.read_csv(f\"{inpath}sociology_paper_author.csv\")"
   ]
  },
  {
   "cell_type": "code",
   "execution_count": 75,
   "id": "36ae926e",
   "metadata": {},
   "outputs": [
    {
     "name": "stdout",
     "output_type": "stream",
     "text": [
      "psychology: \n",
      "authorships: 17881799 \n",
      "studies: 4757436 \n",
      "avg: 3.758705109222699 \n",
      "\n",
      "economy: \n",
      "authorships: 5228483 \n",
      "studies: 1970876 \n",
      "avg: 2.652872631256355 \n",
      "\n",
      "political science: \n",
      "authorships: 4651242 \n",
      "studies: 1794879 \n",
      "avg: 2.591395854539498 \n",
      "\n",
      "sociology: \n",
      "authorships: 5493290 \n",
      "studies: 2414270 \n",
      "avg: 2.275342028853442 \n",
      "\n"
     ]
    }
   ],
   "source": [
    "# psychology slightly larger studies on avg. driven by outliers?\n",
    "print(f\"psychology: \\nauthorships: {len(psych_paa)} \\nstudies: {len(psych)} \\navg: {len(psych_paa)/len(psych)} \\n\")\n",
    "print(f\"economy: \\nauthorships: {len(econ_paa)} \\nstudies: {len(econ)} \\navg: {len(econ_paa)/len(econ)} \\n\")\n",
    "print(f\"political science: \\nauthorships: {len(pol_paa)} \\nstudies: {len(pol)} \\navg: {len(pol_paa)/len(pol)} \\n\")\n",
    "print(f\"sociology: \\nauthorships: {len(soc_paa)} \\nstudies: {len(soc)} \\navg: {len(soc_paa)/len(soc)} \\n\")"
   ]
  }
 ],
 "metadata": {
  "kernelspec": {
   "display_name": "Python (nerdenv)",
   "language": "python",
   "name": "nerdenv"
  },
  "language_info": {
   "codemirror_mode": {
    "name": "ipython",
    "version": 3
   },
   "file_extension": ".py",
   "mimetype": "text/x-python",
   "name": "python",
   "nbconvert_exporter": "python",
   "pygments_lexer": "ipython3",
   "version": "3.8.8"
  }
 },
 "nbformat": 4,
 "nbformat_minor": 5
}
